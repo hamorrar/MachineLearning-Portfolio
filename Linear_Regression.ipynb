{
  "nbformat": 4,
  "nbformat_minor": 0,
  "metadata": {
    "colab": {
      "provenance": [],
      "authorship_tag": "ABX9TyOjvee6v9RYby2zoqf6yWsk"
    },
    "kernelspec": {
      "name": "python3",
      "display_name": "Python 3"
    },
    "language_info": {
      "name": "python"
    }
  },
  "cells": [
    {
      "cell_type": "markdown",
      "source": [
        "## Linear Regression\n",
        "\n",
        "Inspiration for this question comes from: [1](https://mubaris.com/posts/linear-regression/) and [2](http://vxy10.github.io/2016/06/25/lin-reg-matrix/).\n",
        "\n",
        "This is an implementation of the linear regression algorithm from scratch in Python. Linear regression maps feature vectors to a continuous value in the range $[-\\infty,+\\infty]$ by linearly combining the feature values. \n",
        "\n",
        "### Model Representation\n",
        "Data will be represented as a dataframe or feature matrix.\n",
        "\n",
        "Let our feature matrix be $X$ whose dimensions are $n \\times m$, $\\theta$ be a weight matrix of dimensions $m \\times 1$, the bias vector $b$ a column vector of dimension $n\\times 1$. Using these we can predict $\\hat{Y}$\n",
        "by the following relationship:\n",
        "\n",
        "$$\\hat{Y} = X\\theta + b$$ \n",
        "\n",
        "### Data: Facebook posts metrics\n",
        "\n",
        "This data contains features describing posts from a cosmetic brand's Facebook page. The authors use the following features: \n",
        "\n",
        "The dataset can be [found here](http://archive.ics.uci.edu/ml/datasets/Facebook+metrics). The authors of the dataset use the following features:\n",
        "\n",
        "* Category,\n",
        "* Page total likes: Number of people who have liked the company's page), \n",
        "* Type: Type of content (Link, Photo, Status, Video), \n",
        "* Post month: Month the post was published (January, February, March, …, December), \n",
        "* Post hour: Hour the post was published (0, 1, 2, 3, 4, …, 23) , \n",
        "* Post weekday: Weekday the post was published (Sunday, Monday, …,\n",
        "Saturday) , \n",
        "* Paid: If the company paid to Facebook for advertising (yes, no)\n",
        "\n",
        "to model: \n",
        "\n",
        "'Lifetime Post Total Reach', 'Lifetime Post Total Impressions', 'Lifetime Engaged Users', 'Lifetime Post Consumers',\n",
        "'Lifetime Post Consumptions', 'Lifetime Post Impressions by people who have liked your Page', 'Lifetime Post reach by people who like your Page', 'Lifetime People who have liked your Page and engaged with your post', 'comment', 'like', 'share', 'Total Interactions'.\n",
        "\n",
        "\n",
        "This model will focus on 'Total Interactions'. The feature space for this model will include: Category, Page total likes, Post month, Post hour, Post weekday, and Paid.\n",
        "\n",
        "\n",
        "\n"
      ],
      "metadata": {
        "id": "qrL_4sEr50VP"
      }
    },
    {
      "cell_type": "markdown",
      "source": [
        "### Download Data\n"
      ],
      "metadata": {
        "id": "KepUCOoj7gTB"
      }
    },
    {
      "cell_type": "code",
      "source": [
        "!wget http://archive.ics.uci.edu/ml/machine-learning-databases/00368/Facebook_metrics.zip -O ./Facebook_metrics.zip\n",
        "import zipfile\n",
        "with zipfile.ZipFile('./Facebook_metrics.zip', 'r') as zip_ref:\n",
        "    zip_ref.extractall('./')"
      ],
      "metadata": {
        "colab": {
          "base_uri": "https://localhost:8080/"
        },
        "id": "relM8rmK7Obw",
        "outputId": "de7a2ef1-bb9b-47f8-9373-1e062992201e"
      },
      "execution_count": 1,
      "outputs": [
        {
          "output_type": "stream",
          "name": "stdout",
          "text": [
            "--2023-01-29 02:20:26--  http://archive.ics.uci.edu/ml/machine-learning-databases/00368/Facebook_metrics.zip\n",
            "Resolving archive.ics.uci.edu (archive.ics.uci.edu)... 128.195.10.252\n",
            "Connecting to archive.ics.uci.edu (archive.ics.uci.edu)|128.195.10.252|:80... connected.\n",
            "HTTP request sent, awaiting response... 200 OK\n",
            "Length: 16281 (16K) [application/x-httpd-php]\n",
            "Saving to: ‘./Facebook_metrics.zip’\n",
            "\n",
            "./Facebook_metrics. 100%[===================>]  15.90K  --.-KB/s    in 0.06s   \n",
            "\n",
            "2023-01-29 02:20:26 (249 KB/s) - ‘./Facebook_metrics.zip’ saved [16281/16281]\n",
            "\n"
          ]
        }
      ]
    },
    {
      "cell_type": "markdown",
      "source": [
        "### Read Data"
      ],
      "metadata": {
        "id": "0mnq2g6m73bD"
      }
    },
    {
      "cell_type": "code",
      "source": [
        "import pandas as pd\n",
        "import numpy as np\n",
        "np.random.seed(1234)\n",
        "\n",
        "# Shuffles the data in place \n",
        "def shuffle_data(data):\n",
        "    np.random.shuffle(data)\n",
        "\n",
        "# Normalizing all remaining columns\n",
        "def normalize_col(col):\n",
        "    return (col - col.min())/(col.max() - col.min())\n",
        "\n",
        "# Read in the data\n",
        "lr_dataframe = pd.read_csv('dataset_Facebook.csv',sep=';')\n",
        "lr_dataframe.dropna(inplace=True)\n",
        "columns_to_drop = ['Type','Lifetime Post Total Reach', 'Lifetime Post Total Impressions',\n",
        "       'Lifetime Engaged Users', 'Lifetime Post Consumers',\n",
        "       'Lifetime Post Consumptions',\n",
        "       'Lifetime Post Impressions by people who have liked your Page',\n",
        "       'Lifetime Post reach by people who like your Page',\n",
        "       'Lifetime People who have liked your Page and engaged with your post',\n",
        "       'comment', 'like', 'share']\n",
        "lr_dataframe.drop(columns=columns_to_drop,inplace=True)\n",
        "\n",
        "lr_dataframe = lr_dataframe.apply(normalize_col)\n",
        "\n",
        "# Get entries as a numpy array\n",
        "lr_data = lr_dataframe.values[:, :]\n",
        "\n",
        "# Shuffle once for reproducibility\n",
        "shuffle_data(lr_data)\n",
        "\n",
        "# Show first 5 rows of the dataframe to check\n",
        "lr_dataframe.head()"
      ],
      "metadata": {
        "colab": {
          "base_uri": "https://localhost:8080/",
          "height": 206
        },
        "id": "TdIYGdI58Cj2",
        "outputId": "7b17e61a-36ef-4561-d108-7dc3813b95e1"
      },
      "execution_count": 2,
      "outputs": [
        {
          "output_type": "execute_result",
          "data": {
            "text/plain": [
              "   Page total likes  Category  Post Month  Post Weekday  Post Hour  Paid  \\\n",
              "0          0.978371       0.0    0.909091      1.000000   0.454545   0.0   \n",
              "1          0.896850       0.0    0.636364      0.500000   0.363636   1.0   \n",
              "2          0.651409       1.0    0.363636      0.833333   0.227273   0.0   \n",
              "3          0.088185       1.0    0.000000      0.166667   0.272727   0.0   \n",
              "4          0.064111       1.0    0.000000      1.000000   0.409091   0.0   \n",
              "\n",
              "   Total Interactions  \n",
              "0            0.008683  \n",
              "1            0.005052  \n",
              "2            0.015630  \n",
              "3            0.017051  \n",
              "4            0.027787  "
            ],
            "text/html": [
              "\n",
              "  <div id=\"df-e09a792b-9160-4383-acd3-473214d8aa8c\">\n",
              "    <div class=\"colab-df-container\">\n",
              "      <div>\n",
              "<style scoped>\n",
              "    .dataframe tbody tr th:only-of-type {\n",
              "        vertical-align: middle;\n",
              "    }\n",
              "\n",
              "    .dataframe tbody tr th {\n",
              "        vertical-align: top;\n",
              "    }\n",
              "\n",
              "    .dataframe thead th {\n",
              "        text-align: right;\n",
              "    }\n",
              "</style>\n",
              "<table border=\"1\" class=\"dataframe\">\n",
              "  <thead>\n",
              "    <tr style=\"text-align: right;\">\n",
              "      <th></th>\n",
              "      <th>Page total likes</th>\n",
              "      <th>Category</th>\n",
              "      <th>Post Month</th>\n",
              "      <th>Post Weekday</th>\n",
              "      <th>Post Hour</th>\n",
              "      <th>Paid</th>\n",
              "      <th>Total Interactions</th>\n",
              "    </tr>\n",
              "  </thead>\n",
              "  <tbody>\n",
              "    <tr>\n",
              "      <th>0</th>\n",
              "      <td>0.978371</td>\n",
              "      <td>0.0</td>\n",
              "      <td>0.909091</td>\n",
              "      <td>1.000000</td>\n",
              "      <td>0.454545</td>\n",
              "      <td>0.0</td>\n",
              "      <td>0.008683</td>\n",
              "    </tr>\n",
              "    <tr>\n",
              "      <th>1</th>\n",
              "      <td>0.896850</td>\n",
              "      <td>0.0</td>\n",
              "      <td>0.636364</td>\n",
              "      <td>0.500000</td>\n",
              "      <td>0.363636</td>\n",
              "      <td>1.0</td>\n",
              "      <td>0.005052</td>\n",
              "    </tr>\n",
              "    <tr>\n",
              "      <th>2</th>\n",
              "      <td>0.651409</td>\n",
              "      <td>1.0</td>\n",
              "      <td>0.363636</td>\n",
              "      <td>0.833333</td>\n",
              "      <td>0.227273</td>\n",
              "      <td>0.0</td>\n",
              "      <td>0.015630</td>\n",
              "    </tr>\n",
              "    <tr>\n",
              "      <th>3</th>\n",
              "      <td>0.088185</td>\n",
              "      <td>1.0</td>\n",
              "      <td>0.000000</td>\n",
              "      <td>0.166667</td>\n",
              "      <td>0.272727</td>\n",
              "      <td>0.0</td>\n",
              "      <td>0.017051</td>\n",
              "    </tr>\n",
              "    <tr>\n",
              "      <th>4</th>\n",
              "      <td>0.064111</td>\n",
              "      <td>1.0</td>\n",
              "      <td>0.000000</td>\n",
              "      <td>1.000000</td>\n",
              "      <td>0.409091</td>\n",
              "      <td>0.0</td>\n",
              "      <td>0.027787</td>\n",
              "    </tr>\n",
              "  </tbody>\n",
              "</table>\n",
              "</div>\n",
              "      <button class=\"colab-df-convert\" onclick=\"convertToInteractive('df-e09a792b-9160-4383-acd3-473214d8aa8c')\"\n",
              "              title=\"Convert this dataframe to an interactive table.\"\n",
              "              style=\"display:none;\">\n",
              "        \n",
              "  <svg xmlns=\"http://www.w3.org/2000/svg\" height=\"24px\"viewBox=\"0 0 24 24\"\n",
              "       width=\"24px\">\n",
              "    <path d=\"M0 0h24v24H0V0z\" fill=\"none\"/>\n",
              "    <path d=\"M18.56 5.44l.94 2.06.94-2.06 2.06-.94-2.06-.94-.94-2.06-.94 2.06-2.06.94zm-11 1L8.5 8.5l.94-2.06 2.06-.94-2.06-.94L8.5 2.5l-.94 2.06-2.06.94zm10 10l.94 2.06.94-2.06 2.06-.94-2.06-.94-.94-2.06-.94 2.06-2.06.94z\"/><path d=\"M17.41 7.96l-1.37-1.37c-.4-.4-.92-.59-1.43-.59-.52 0-1.04.2-1.43.59L10.3 9.45l-7.72 7.72c-.78.78-.78 2.05 0 2.83L4 21.41c.39.39.9.59 1.41.59.51 0 1.02-.2 1.41-.59l7.78-7.78 2.81-2.81c.8-.78.8-2.07 0-2.86zM5.41 20L4 18.59l7.72-7.72 1.47 1.35L5.41 20z\"/>\n",
              "  </svg>\n",
              "      </button>\n",
              "      \n",
              "  <style>\n",
              "    .colab-df-container {\n",
              "      display:flex;\n",
              "      flex-wrap:wrap;\n",
              "      gap: 12px;\n",
              "    }\n",
              "\n",
              "    .colab-df-convert {\n",
              "      background-color: #E8F0FE;\n",
              "      border: none;\n",
              "      border-radius: 50%;\n",
              "      cursor: pointer;\n",
              "      display: none;\n",
              "      fill: #1967D2;\n",
              "      height: 32px;\n",
              "      padding: 0 0 0 0;\n",
              "      width: 32px;\n",
              "    }\n",
              "\n",
              "    .colab-df-convert:hover {\n",
              "      background-color: #E2EBFA;\n",
              "      box-shadow: 0px 1px 2px rgba(60, 64, 67, 0.3), 0px 1px 3px 1px rgba(60, 64, 67, 0.15);\n",
              "      fill: #174EA6;\n",
              "    }\n",
              "\n",
              "    [theme=dark] .colab-df-convert {\n",
              "      background-color: #3B4455;\n",
              "      fill: #D2E3FC;\n",
              "    }\n",
              "\n",
              "    [theme=dark] .colab-df-convert:hover {\n",
              "      background-color: #434B5C;\n",
              "      box-shadow: 0px 1px 3px 1px rgba(0, 0, 0, 0.15);\n",
              "      filter: drop-shadow(0px 1px 2px rgba(0, 0, 0, 0.3));\n",
              "      fill: #FFFFFF;\n",
              "    }\n",
              "  </style>\n",
              "\n",
              "      <script>\n",
              "        const buttonEl =\n",
              "          document.querySelector('#df-e09a792b-9160-4383-acd3-473214d8aa8c button.colab-df-convert');\n",
              "        buttonEl.style.display =\n",
              "          google.colab.kernel.accessAllowed ? 'block' : 'none';\n",
              "\n",
              "        async function convertToInteractive(key) {\n",
              "          const element = document.querySelector('#df-e09a792b-9160-4383-acd3-473214d8aa8c');\n",
              "          const dataTable =\n",
              "            await google.colab.kernel.invokeFunction('convertToInteractive',\n",
              "                                                     [key], {});\n",
              "          if (!dataTable) return;\n",
              "\n",
              "          const docLinkHtml = 'Like what you see? Visit the ' +\n",
              "            '<a target=\"_blank\" href=https://colab.research.google.com/notebooks/data_table.ipynb>data table notebook</a>'\n",
              "            + ' to learn more about interactive tables.';\n",
              "          element.innerHTML = '';\n",
              "          dataTable['output_type'] = 'display_data';\n",
              "          await google.colab.output.renderOutput(dataTable, element);\n",
              "          const docLink = document.createElement('div');\n",
              "          docLink.innerHTML = docLinkHtml;\n",
              "          element.appendChild(docLink);\n",
              "        }\n",
              "      </script>\n",
              "    </div>\n",
              "  </div>\n",
              "  "
            ]
          },
          "metadata": {},
          "execution_count": 2
        }
      ]
    },
    {
      "cell_type": "markdown",
      "source": [
        "### Split Data\n",
        "\n",
        "The data needs to be split into the training and testing sets for feature matrix $X$ and the target $Y$. 80% of the dataset will be used for training and 20% for testing."
      ],
      "metadata": {
        "id": "hxX-lpr488uW"
      }
    },
    {
      "cell_type": "code",
      "source": [
        "# Sets x0 = 1 by appending a column of ones to account for the bias term.\n",
        "# Returns augmented matrix.\n",
        "def bias_trick(X):\n",
        "  x_0 = np.ones((len(X), 1), dtype=int)\n",
        "  X = np.hstack((x_0, X))\n",
        "  return X\n",
        "\n",
        "# Separates feature vectors and targets in the dataset. \n",
        "# Returns X as feature matrix and Y as vector of targets to predict.\n",
        "def separate_data(data):\n",
        "  X_no_bias = data[:,:-1]\n",
        "  X = bias_trick(X_no_bias)\n",
        "  Y = data[:,-1]\n",
        "  return X, Y\n",
        "\n",
        "# Splits the data into a training and testing set for X and Y. Returns the split data.\n",
        "def train_test_split(data, train_size=.80):\n",
        "    train = int(len(data)*train_size)\n",
        "    X, Y = separate_data(data)\n",
        "    X_train = X[:train]\n",
        "    y_train = Y[:train]\n",
        "    X_test = X[train:]\n",
        "    y_test = Y[train:]\n",
        "    return X_train, y_train, X_test, y_test"
      ],
      "metadata": {
        "id": "VEoUhcPB9bOX"
      },
      "execution_count": 3,
      "outputs": []
    },
    {
      "cell_type": "markdown",
      "source": [
        "### Training and Testing the Model\n",
        "\n",
        "The Mean Squared Error (MSE) will be used as a way to measure the performance of the model. In order to do that, the derivative of the MSE will also be used to minimize the error.\n",
        "\n",
        "#### Mean Squared Error\n",
        "The model will compute $\\theta$ such that the MSE is minimized (the 1/2 factor makes the derivation easier). \n",
        "\n",
        "Let the MSE be a function of $\\theta, J(\\theta)$:\n",
        "\n",
        "$$J(\\theta) = \\frac{1}{2n} \\sum_{i=1}^{n} (\\hat{y}_i - y_i)^2$$\n",
        "\n",
        "where, $\\theta$ is the vector of weights computed to solve the equation:\n",
        "$$\\hat{y} = X \\theta = z$$\n",
        "\n",
        "In an expanded form, the same equation is:\n",
        "\n",
        "$$\\hat{y} = X \\theta =\n",
        "\\begin{bmatrix}\n",
        "    X_{1,0}\\theta_0 + X_{1,1}\\theta_1 + \\cdots + X_{1,d}\\theta_d  \\\\\n",
        "    X_{2,0}\\theta_0 + X_{2,1}\\theta_1 + \\cdots + X_{2,d}\\theta_d  \\\\\n",
        "    \\vdots   \\\\\n",
        "    X_{n,0}\\theta_0 + X_{n,1}\\theta_1 + \\cdots + X_{n,d}\\theta_d \n",
        "\\end{bmatrix} =\n",
        "\\begin{bmatrix}\n",
        "    z_1  \\\\\n",
        "    z_2  \\\\\n",
        "    \\vdots   \\\\\n",
        "    z_{n}\n",
        "\\end{bmatrix}$$\n",
        "\n",
        "again where $X$ is the feature matrix, $\\theta$ is the weight vector, and $z$ and $\\hat{y}$ both represent the predicted value vector.\n",
        "\n",
        "#### Derivative of Mean Squared Error\n",
        "The derivative of the MSE is \n",
        "\n",
        "$$\\frac{\\partial}{\\partial\\theta_j}J(\\theta) = \\frac{1}{n} \\sum_{i=1}^{n} ( \\hat{y_i} - y_i)x_{i,j}$$\n",
        "\n",
        "Now, combine MSE and derivative of MSE for a gradient descent algorithm to train the model."
      ],
      "metadata": {
        "id": "eG4kpufKLFOn"
      }
    },
    {
      "cell_type": "code",
      "source": [
        "# Calculate the mean squared error bewteen the predicted values and target values. \n",
        "# Returns vector of the error values.\n",
        "def mse(y_pred, y_true):\n",
        "  return (1/(2*(len(y_pred))) * np.sum((y_pred - y_true)**2))\n",
        "\n",
        "# Calculate the derivative of the mean squared error. \n",
        "# Returns a vector of derivations of MSE.\n",
        "def mse_derivative(X,y,theta):\n",
        "  \n",
        "  # h is the predicted value vector\n",
        "  h = np.dot(X, theta)\n",
        "  return ((1/len(X)) * np.dot((h - y), X))\n",
        "\n",
        "'''\n",
        "Move one step with gradient descent. \n",
        "X is feature matrix, y is the target value vector,\n",
        "theta is the weight vector, alpha is the learning rate.\n",
        "Returns updated theta vector.\n",
        "'''\n",
        "def gradient_descent_step(X,y, theta, alpha):\n",
        "\n",
        "  # update theta vector\n",
        "  theta = theta - (alpha * mse_derivative(X, y, theta))\n",
        "  return theta\n",
        "\n",
        "# Combine all the pieces to calculate the linear regression. \n",
        "# Returns theta, train, and test error vectors.\n",
        "def linear_regression(data, num_epochs=30000, alpha=0.00005):\n",
        "    # Get training and testing set by calling train_test_split()\n",
        "    X_train, y_train, X_test, y_test = train_test_split(data)\n",
        "\n",
        "    # Record training and test errors in lists\n",
        "    train_errors= []\n",
        "    test_errors= []\n",
        "\n",
        "    # Define theta\n",
        "    theta = np.zeros((X_train.shape[1]))\n",
        "\n",
        "    # Carry out training loop\n",
        "    for i in range(num_epochs):\n",
        "        train_error = mse(np.dot(X_train, theta), y_train)\n",
        "        train_errors.append(train_error)\n",
        "\n",
        "        test_error = mse(np.dot(X_test, theta), y_test)\n",
        "        test_errors.append(test_error)\n",
        "\n",
        "        # Do gradient descent on the training set\n",
        "        theta = gradient_descent_step(X_train, y_train, theta, alpha)\n",
        "    return theta, train_errors, test_errors"
      ],
      "metadata": {
        "id": "sqjpzcBURJQZ"
      },
      "execution_count": 4,
      "outputs": []
    },
    {
      "cell_type": "markdown",
      "source": [
        "### Train and visualize results\n",
        "\n"
      ],
      "metadata": {
        "id": "cBk_RmEVUiMj"
      }
    },
    {
      "cell_type": "code",
      "source": [
        "# Carry out training task\n",
        "theta, train_errors, test_errors = linear_regression(lr_data)\n",
        "\n",
        "import matplotlib.pyplot as plt\n",
        "# Plot the training error and test error for different epochs (iterations of the\n",
        "# algorithm). Your plot be MSE error vs epochs.\n",
        "epochs = range(30000)\n",
        "a = plt.scatter(epochs, train_errors, color='blue')\n",
        "b = plt.scatter(epochs, test_errors, color='red')\n",
        "plt.title('MSE vs Epochs for Training and Testing')\n",
        "plt.xlabel('Epochs')\n",
        "plt.ylabel('MSE')\n",
        "plt.legend((a, b), ('Training', 'Testing'))\n",
        "plt.show()"
      ],
      "metadata": {
        "colab": {
          "base_uri": "https://localhost:8080/",
          "height": 295
        },
        "id": "JIodqa_0UnTD",
        "outputId": "2d6d79a1-a81f-4b46-c6ba-6c0211d3c3b3"
      },
      "execution_count": 5,
      "outputs": [
        {
          "output_type": "display_data",
          "data": {
            "text/plain": [
              "<Figure size 432x288 with 1 Axes>"
            ],
            "image/png": "[encoded data removed]"
          },
          "metadata": {
            "needs_background": "light"
          }
        }
      ]
    },
    {
      "cell_type": "markdown",
      "source": [
        "### Evaluation\n",
        "\n",
        "The model did well simply based on the graph. The training MSE seems to end up around 0.001 and the testing MSE seems to end around 0.0006 after 30000 iterations. The model seems to be well optimized after about 10000 iterations, which is 1/3 of the total epochs."
      ],
      "metadata": {
        "id": "bfOmcNJXUqqB"
      }
    }
  ]
}